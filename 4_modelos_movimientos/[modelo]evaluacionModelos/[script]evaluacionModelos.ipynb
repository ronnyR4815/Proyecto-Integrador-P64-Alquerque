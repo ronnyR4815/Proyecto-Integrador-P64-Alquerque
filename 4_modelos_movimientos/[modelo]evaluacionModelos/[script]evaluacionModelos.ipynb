{
  "cells": [
    {
      "cell_type": "code",
      "execution_count": 3,
      "metadata": {
        "colab": {
          "base_uri": "https://localhost:8080/"
        },
        "id": "Te8ZTmNF2AVT",
        "outputId": "915d9cbe-1901-4ec4-bb86-0590adb0f2a1"
      },
      "outputs": [
        {
          "name": "stderr",
          "output_type": "stream",
          "text": [
            "/usr/local/lib/python3.10/dist-packages/sklearn/base.py:348: InconsistentVersionWarning: Trying to unpickle estimator DecisionTreeClassifier from version 1.5.0 when using version 1.3.2. This might lead to breaking code or invalid results. Use at your own risk. For more info please refer to:\n",
            "https://scikit-learn.org/stable/model_persistence.html#security-maintainability-limitations\n",
            "  warnings.warn(\n",
            "/usr/local/lib/python3.10/dist-packages/sklearn/base.py:348: InconsistentVersionWarning: Trying to unpickle estimator RandomForestClassifier from version 1.5.0 when using version 1.3.2. This might lead to breaking code or invalid results. Use at your own risk. For more info please refer to:\n",
            "https://scikit-learn.org/stable/model_persistence.html#security-maintainability-limitations\n",
            "  warnings.warn(\n",
            "/usr/local/lib/python3.10/dist-packages/sklearn/base.py:348: InconsistentVersionWarning: Trying to unpickle estimator LabelBinarizer from version 1.5.0 when using version 1.3.2. This might lead to breaking code or invalid results. Use at your own risk. For more info please refer to:\n",
            "https://scikit-learn.org/stable/model_persistence.html#security-maintainability-limitations\n",
            "  warnings.warn(\n",
            "/usr/local/lib/python3.10/dist-packages/sklearn/base.py:348: InconsistentVersionWarning: Trying to unpickle estimator MLPClassifier from version 1.5.0 when using version 1.3.2. This might lead to breaking code or invalid results. Use at your own risk. For more info please refer to:\n",
            "https://scikit-learn.org/stable/model_persistence.html#security-maintainability-limitations\n",
            "  warnings.warn(\n"
          ]
        },
        {
          "name": "stdout",
          "output_type": "stream",
          "text": [
            "Modelo 1 evaluado...\n",
            "Modelo 2 evaluado...\n",
            "59/59 [==============================] - 0s 2ms/step\n",
            "Modelo 3 evaluado...\n",
            "Accuracy: 0.9338313767342583\n",
            "Resumen del clasificador:\n",
            "              precision    recall  f1-score   support\n",
            "\n",
            "           0       0.91      0.99      0.95      1152\n",
            "           1       0.98      0.85      0.91       722\n",
            "\n",
            "    accuracy                           0.93      1874\n",
            "   macro avg       0.94      0.92      0.93      1874\n",
            "weighted avg       0.94      0.93      0.93      1874\n",
            "\n"
          ]
        }
      ],
      "source": [
        "import pandas as pd\n",
        "import numpy as np\n",
        "from sklearn.metrics import accuracy_score, classification_report\n",
        "from joblib import load\n",
        "\n",
        "# Cargar los datos\n",
        "data = pd.read_csv('mov_test.csv')\n",
        "\n",
        "# Separar dataset y etiquetas\n",
        "X_test = data.drop(columns=['validez'])\n",
        "y_test = data['validez']\n",
        "\n",
        "# Cargar los modelos entrenados\n",
        "model1 = load('4_modelos_movimientos/[modelo]randomForest/[modelo]RandomForest.joblib')\n",
        "model2 = load('4_modelos_movimientos/[modelo]perceptron/[modelo]MLPerceptron.joblib')\n",
        "model3 = load('4_modelos_movimientos/[modelo]neuralNetwork/[modelo]NeuralNetwork.joblib')\n",
        "\n",
        "# Realizar predicciones\n",
        "y_pred1 = model1.predict(X_test)\n",
        "print(\"Modelo 1 evaluado...\")\n",
        "y_pred2 = model2.predict(X_test)\n",
        "print(\"Modelo 2 evaluado...\")\n",
        "y_pred3 = model3.predict(X_test)\n",
        "y_pred3 = y_pred3.flatten()\n",
        "print(\"Modelo 3 evaluado...\")\n",
        "\n",
        "# Evaluar los modelos entre ellos\n",
        "preds = np.array([y_pred1, y_pred2, y_pred3])\n",
        "y_pred = np.apply_along_axis(lambda x: np.bincount(x.astype(int)).argmax(), axis=0, arr=preds)\n",
        "\n",
        "accuracy = accuracy_score(y_test, y_pred)\n",
        "report = classification_report(y_test, y_pred)\n",
        "\n",
        "print(f'Accuracy: {accuracy}')\n",
        "print(f'Resumen del clasificador:\\n{report}')"
      ]
    }
  ],
  "metadata": {
    "colab": {
      "provenance": []
    },
    "kernelspec": {
      "display_name": "Python 3",
      "name": "python3"
    },
    "language_info": {
      "name": "python"
    }
  },
  "nbformat": 4,
  "nbformat_minor": 0
}
